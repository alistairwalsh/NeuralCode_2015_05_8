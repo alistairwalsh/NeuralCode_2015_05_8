{
 "cells": [
  {
   "cell_type": "code",
   "execution_count": 61,
   "metadata": {
    "collapsed": true
   },
   "outputs": [],
   "source": [
    "\n",
    "\n",
    "def split_embiggen_sort(sentence):\n",
    "    '''takes a string and \n",
    "    splits it into a list of individual words, \n",
    "    converts them to uppercase and \n",
    "    sorts them in descending order\n",
    "    '''\n",
    "    all_converted = embiggen(sentence)\n",
    "    all_converted = divide_at_spaces(all_converted)\n",
    "    all_converted = big_to_little(all_converted)\n",
    "    \n",
    "    return all_converted\n",
    "\n",
    "def embiggen(sentence):\n",
    "    '''convert a string to uppercase and return a string'''\n",
    "    assert(type(sentence) is str)\n",
    "    converted = sentence.upper()\n",
    "    return converted\n",
    "\n",
    "def divide_at_spaces(sentence):\n",
    "    '''splits a string at space characters and return a list'''\n",
    "    assert(type(sentence) is str)\n",
    "    chopped = sentence.split()\n",
    "    return chopped\n",
    "\n",
    "def big_to_little(bits):\n",
    "    '''sorts a list of words from longest to shortest and return a list'''\n",
    "    assert(type(bits) is list)\n",
    "    bits.sort(key=len)\n",
    "    return bits"
   ]
  },
  {
   "cell_type": "code",
   "execution_count": 44,
   "metadata": {
    "collapsed": false
   },
   "outputs": [
    {
     "data": {
      "text/plain": [
       "['red',\n",
       " 'and',\n",
       " 'and',\n",
       " 'and',\n",
       " 'and',\n",
       " 'green',\n",
       " 'blue,',\n",
       " 'yellow',\n",
       " 'purple',\n",
       " 'orange!']"
      ]
     },
     "execution_count": 44,
     "metadata": {},
     "output_type": "execute_result"
    }
   ],
   "source": [
    "big_to_little(bits = problem1)"
   ]
  },
  {
   "cell_type": "code",
   "execution_count": 37,
   "metadata": {
    "collapsed": false
   },
   "outputs": [],
   "source": [
    "problem1 = 'red and yellow and green and blue, purple and orange!'.split()"
   ]
  },
  {
   "cell_type": "code",
   "execution_count": 62,
   "metadata": {
    "collapsed": false
   },
   "outputs": [
    {
     "data": {
      "text/plain": [
       "['WE',\n",
       " '2,',\n",
       " 'THE',\n",
       " 'TWO',\n",
       " 'ARE',\n",
       " 'AND',\n",
       " '[1,',\n",
       " 'FACE',\n",
       " '3]].',\n",
       " \"'AND',\",\n",
       " \"'AND',\",\n",
       " \"'AND',\",\n",
       " \"'AND',\",\n",
       " '[1231,',\n",
       " \"['RED',\",\n",
       " 'PROBLEMS',\n",
       " \"'GREEN',\",\n",
       " \"'BLUE,',\",\n",
       " \"'HELLO',\",\n",
       " \"'YELLOW',\",\n",
       " \"'PURPLE',\",\n",
       " \"'ORANGE!']\"]"
      ]
     },
     "execution_count": 62,
     "metadata": {},
     "output_type": "execute_result"
    }
   ],
   "source": [
    "split_embiggen_sort(\"The two problems we face are ['red', 'and', 'yellow', 'and', 'green', 'and', 'blue,', 'purple', 'and', 'orange!'] and [1231, 'hello', [1, 2, 3]].\")"
   ]
  },
  {
   "cell_type": "code",
   "execution_count": 38,
   "metadata": {
    "collapsed": true
   },
   "outputs": [],
   "source": [
    "problem2 = [1231,'hello',[1,2,3]]"
   ]
  },
  {
   "cell_type": "code",
   "execution_count": 39,
   "metadata": {
    "collapsed": false
   },
   "outputs": [
    {
     "name": "stdout",
     "output_type": "stream",
     "text": [
      "The two problems we face are ['red', 'and', 'yellow', 'and', 'green', 'and', 'blue,', 'purple', 'and', 'orange!'] and [1231, 'hello', [1, 2, 3]].\n"
     ]
    }
   ],
   "source": [
    "print('The two problems we face are {} and {}.'.format(problem1,problem2))"
   ]
  },
  {
   "cell_type": "code",
   "execution_count": 40,
   "metadata": {
    "collapsed": true
   },
   "outputs": [],
   "source": [
    "problem3 = 12345"
   ]
  },
  {
   "cell_type": "code",
   "execution_count": 34,
   "metadata": {
    "collapsed": false
   },
   "outputs": [],
   "source": [
    "big_to_little([1231,'hello',[1,2,3]])"
   ]
  }
 ],
 "metadata": {
  "kernelspec": {
   "display_name": "Python 3",
   "language": "python",
   "name": "python3"
  },
  "language_info": {
   "codemirror_mode": {
    "name": "ipython",
    "version": 3
   },
   "file_extension": ".py",
   "mimetype": "text/x-python",
   "name": "python",
   "nbconvert_exporter": "python",
   "pygments_lexer": "ipython3",
   "version": "3.4.3"
  }
 },
 "nbformat": 4,
 "nbformat_minor": 0
}
