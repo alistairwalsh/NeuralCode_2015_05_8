{
 "cells": [
  {
   "cell_type": "code",
   "execution_count": 1,
   "metadata": {
    "collapsed": true
   },
   "outputs": [],
   "source": [
    "import stringtools"
   ]
  },
  {
   "cell_type": "code",
   "execution_count": 2,
   "metadata": {
    "collapsed": true
   },
   "outputs": [],
   "source": [
    "prob = '''The two problems we face are ['red', 'and',\n",
    "'yellow', 'and', 'green', 'and', 'blue,', 'purple',\n",
    "'and', 'orange!'] and [1231, 'hello', [1, 2, 3]].'''"
   ]
  },
  {
   "cell_type": "code",
   "execution_count": 3,
   "metadata": {
    "collapsed": false
   },
   "outputs": [
    {
     "data": {
      "text/plain": [
       "['1',\n",
       " '2',\n",
       " '3',\n",
       " 'WE',\n",
       " 'THE',\n",
       " 'TWO',\n",
       " 'ARE',\n",
       " 'RED',\n",
       " 'AND',\n",
       " 'AND',\n",
       " 'AND',\n",
       " 'AND',\n",
       " 'AND',\n",
       " 'FACE',\n",
       " 'BLUE',\n",
       " '1231',\n",
       " 'GREEN',\n",
       " 'HELLO',\n",
       " 'YELLOW',\n",
       " 'PURPLE',\n",
       " 'ORANGE',\n",
       " 'PROBLEMS']"
      ]
     },
     "execution_count": 3,
     "metadata": {},
     "output_type": "execute_result"
    }
   ],
   "source": [
    "stringtools.split_embiggen_sort(prob)"
   ]
  },
  {
   "cell_type": "code",
   "execution_count": null,
   "metadata": {
    "collapsed": true
   },
   "outputs": [],
   "source": []
  }
 ],
 "metadata": {
  "kernelspec": {
   "display_name": "Python 3",
   "language": "python",
   "name": "python3"
  },
  "language_info": {
   "codemirror_mode": {
    "name": "ipython",
    "version": 3
   },
   "file_extension": ".py",
   "mimetype": "text/x-python",
   "name": "python",
   "nbconvert_exporter": "python",
   "pygments_lexer": "ipython3",
   "version": "3.4.3"
  }
 },
 "nbformat": 4,
 "nbformat_minor": 0
}
