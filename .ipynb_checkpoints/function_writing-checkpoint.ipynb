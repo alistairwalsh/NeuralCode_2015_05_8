{
 "cells": [
  {
   "cell_type": "code",
   "execution_count": 3,
   "metadata": {
    "collapsed": false
   },
   "outputs": [
    {
     "name": "stdout",
     "output_type": "stream",
     "text": [
      "Overwriting __init__.py\n"
     ]
    }
   ],
   "source": [
    "%%file __init__.py\n",
    "__version__ = '0.0.3'"
   ]
  },
  {
   "cell_type": "code",
   "execution_count": 6,
   "metadata": {
    "collapsed": false
   },
   "outputs": [
    {
     "name": "stdout",
     "output_type": "stream",
     "text": [
      "LICENSE                 README.md               __init__.py             function_writing.ipynb\r\n"
     ]
    }
   ],
   "source": [
    "ls"
   ]
  },
  {
   "cell_type": "code",
   "execution_count": 19,
   "metadata": {
    "collapsed": true
   },
   "outputs": [],
   "source": [
    "prob = '''The two problems we face are \n",
    "['red', 'and', 'yellow', 'and', 'green',\n",
    "'and', 'blue,', 'purple', 'and', 'orange!'] \n",
    "and [1231, 'hello', [1, 2, 3]].'''"
   ]
  },
  {
   "cell_type": "code",
   "execution_count": 4,
   "metadata": {
    "collapsed": true
   },
   "outputs": [],
   "source": [
    "import string"
   ]
  },
  {
   "cell_type": "code",
   "execution_count": 5,
   "metadata": {
    "collapsed": false
   },
   "outputs": [
    {
     "data": {
      "text/plain": [
       "'!\"#$%&\\'()*+,-./:;<=>?@[\\\\]^_`{|}~'"
      ]
     },
     "execution_count": 5,
     "metadata": {},
     "output_type": "execute_result"
    }
   ],
   "source": [
    "string.punctuation"
   ]
  },
  {
   "cell_type": "code",
   "execution_count": 22,
   "metadata": {
    "collapsed": true
   },
   "outputs": [],
   "source": [
    "def stripper(sentence):\n",
    "    '''\n",
    "    takes a string as input and removes punctuation\n",
    "    returns a string\n",
    "    '''\n",
    "    clean = ''\n",
    "    for let in sentence:\n",
    "        if let in string.punctuation: continue\n",
    "        clean += let\n",
    "    return clean\n",
    "    "
   ]
  },
  {
   "cell_type": "code",
   "execution_count": null,
   "metadata": {
    "collapsed": true
   },
   "outputs": [],
   "source": [
    "stripper(prob)"
   ]
  },
  {
   "cell_type": "code",
   "execution_count": 36,
   "metadata": {
    "collapsed": true
   },
   "outputs": [],
   "source": [
    "def stripper2(sentence):\n",
    "    '''\n",
    "    takes a string as input and removes punctuation\n",
    "    returns a string using list comprehension\n",
    "    '''\n",
    "    y = [x for x in sentence if x not in string.punctuation]\n",
    "    z = ''\n",
    "    for let in y:\n",
    "        z += let\n",
    "    return z"
   ]
  },
  {
   "cell_type": "code",
   "execution_count": 37,
   "metadata": {
    "collapsed": false
   },
   "outputs": [
    {
     "data": {
      "text/plain": [
       "'The two problems we face are red and yellow and green and blue purple and orange and 1231 hello 1 2 3'"
      ]
     },
     "execution_count": 37,
     "metadata": {},
     "output_type": "execute_result"
    }
   ],
   "source": [
    "stripper2(prob)"
   ]
  },
  {
   "cell_type": "code",
   "execution_count": 41,
   "metadata": {
    "collapsed": false
   },
   "outputs": [],
   "source": [
    "def stripper3(sentence):\n",
    "    '''\n",
    "    takes a string as input and removes punctuation\n",
    "    returns a string using list comprehension\n",
    "    '''\n",
    "    \n",
    "    res = \"\".join([x for x in sentence if x not in string.punctuation])\n",
    "    return res"
   ]
  },
  {
   "cell_type": "code",
   "execution_count": 42,
   "metadata": {
    "collapsed": false
   },
   "outputs": [
    {
     "data": {
      "text/plain": [
       "'The two problems we face are red and yellow and green and blue purple and orange and 1231 hello 1 2 3'"
      ]
     },
     "execution_count": 42,
     "metadata": {},
     "output_type": "execute_result"
    }
   ],
   "source": [
    "stripper3(prob)"
   ]
  },
  {
   "cell_type": "markdown",
   "metadata": {},
   "source": [
    "#Creating the library "
   ]
  },
  {
   "cell_type": "markdown",
   "metadata": {},
   "source": [
    "__*notice the '%%file' magic*__\n",
    "\n",
    "it writes the block of code to a file, allowing us to call it with an \n",
    "```python\n",
    "import stringtools\n",
    "\n",
    "```"
   ]
  },
  {
   "cell_type": "code",
   "execution_count": 7,
   "metadata": {
    "collapsed": false
   },
   "outputs": [
    {
     "name": "stdout",
     "output_type": "stream",
     "text": [
      "Overwriting stringtools.py\n"
     ]
    }
   ],
   "source": [
    "%%file stringtools.py\n",
    "#!/usr/bin/python\n",
    "# Filename: stringtools.py\n",
    "import string\n",
    "\n",
    "def split_embiggen_sort(sentence):\n",
    "    '''\n",
    "    takes a string and removes punctuation \n",
    "    splits it into a list of individual words, \n",
    "    converts them to uppercase and \n",
    "    sorts them in descending order\n",
    "    '''\n",
    "    all_converted = embiggen(sentence)\n",
    "    all_converted = stripper3(all_converted)\n",
    "    all_converted = divide_at_spaces(all_converted)\n",
    "    all_converted = big_to_little(all_converted)\n",
    "    \n",
    "    return all_converted\n",
    "\n",
    "def stripper3(sentence):\n",
    "    '''\n",
    "    takes a string as input and removes punctuation using list comprehension\n",
    "    returns a string \n",
    "    '''\n",
    "    res = \"\".join([x for x in sentence if x not in string.punctuation])\n",
    "    return res\n",
    "\n",
    "def embiggen(sentence):\n",
    "    '''\n",
    "    convert a string to uppercase and \n",
    "    returns a string\n",
    "    '''\n",
    "    assert(type(sentence) is str)\n",
    "    converted = sentence.upper()\n",
    "    return converted\n",
    "\n",
    "def divide_at_spaces(sentence):\n",
    "    '''\n",
    "    takes a string as input\n",
    "    splits the string at space characters and \n",
    "    returns a list of strings\n",
    "    '''\n",
    "    assert(type(sentence) is str)\n",
    "    chopped = sentence.split()\n",
    "    return chopped\n",
    "\n",
    "def big_to_little(bits):\n",
    "    '''\n",
    "    sorts a list of words from longest to shortest and return a list\n",
    "    '''\n",
    "    assert(type(bits) is list)\n",
    "    bits.sort(key=len)\n",
    "    return bits\n"
   ]
  },
  {
   "cell_type": "code",
   "execution_count": 4,
   "metadata": {
    "collapsed": false
   },
   "outputs": [],
   "source": [
    "import stringtools\n"
   ]
  },
  {
   "cell_type": "code",
   "execution_count": 2,
   "metadata": {
    "collapsed": false
   },
   "outputs": [
    {
     "data": {
      "text/plain": [
       "['a', 'is', 'this', 'test', 'string']"
      ]
     },
     "execution_count": 2,
     "metadata": {},
     "output_type": "execute_result"
    }
   ],
   "source": [
    "stringtools.big_to_little('this is a test string'.split())"
   ]
  },
  {
   "cell_type": "code",
   "execution_count": 44,
   "metadata": {
    "collapsed": false
   },
   "outputs": [
    {
     "data": {
      "text/plain": [
       "['red',\n",
       " 'and',\n",
       " 'and',\n",
       " 'and',\n",
       " 'and',\n",
       " 'green',\n",
       " 'blue,',\n",
       " 'yellow',\n",
       " 'purple',\n",
       " 'orange!']"
      ]
     },
     "execution_count": 44,
     "metadata": {},
     "output_type": "execute_result"
    }
   ],
   "source": [
    "big_to_little(bits = problem1)"
   ]
  },
  {
   "cell_type": "code",
   "execution_count": 37,
   "metadata": {
    "collapsed": false
   },
   "outputs": [],
   "source": [
    "problem1 = 'red and yellow and green and blue, purple and orange!'.split()"
   ]
  },
  {
   "cell_type": "code",
   "execution_count": 62,
   "metadata": {
    "collapsed": false
   },
   "outputs": [
    {
     "data": {
      "text/plain": [
       "['WE',\n",
       " '2,',\n",
       " 'THE',\n",
       " 'TWO',\n",
       " 'ARE',\n",
       " 'AND',\n",
       " '[1,',\n",
       " 'FACE',\n",
       " '3]].',\n",
       " \"'AND',\",\n",
       " \"'AND',\",\n",
       " \"'AND',\",\n",
       " \"'AND',\",\n",
       " '[1231,',\n",
       " \"['RED',\",\n",
       " 'PROBLEMS',\n",
       " \"'GREEN',\",\n",
       " \"'BLUE,',\",\n",
       " \"'HELLO',\",\n",
       " \"'YELLOW',\",\n",
       " \"'PURPLE',\",\n",
       " \"'ORANGE!']\"]"
      ]
     },
     "execution_count": 62,
     "metadata": {},
     "output_type": "execute_result"
    }
   ],
   "source": [
    "split_embiggen_sort(\"The two problems we face are ['red', 'and', 'yellow', 'and', 'green', 'and', 'blue,', 'purple', 'and', 'orange!'] and [1231, 'hello', [1, 2, 3]].\")"
   ]
  },
  {
   "cell_type": "code",
   "execution_count": 38,
   "metadata": {
    "collapsed": true
   },
   "outputs": [],
   "source": [
    "problem2 = [1231,'hello',[1,2,3]]"
   ]
  },
  {
   "cell_type": "code",
   "execution_count": 39,
   "metadata": {
    "collapsed": false
   },
   "outputs": [
    {
     "name": "stdout",
     "output_type": "stream",
     "text": [
      "The two problems we face are ['red', 'and', 'yellow', 'and', 'green', 'and', 'blue,', 'purple', 'and', 'orange!'] and [1231, 'hello', [1, 2, 3]].\n"
     ]
    }
   ],
   "source": [
    "print('The two problems we face are {} and {}.'.format(problem1,problem2))"
   ]
  },
  {
   "cell_type": "code",
   "execution_count": 40,
   "metadata": {
    "collapsed": true
   },
   "outputs": [],
   "source": [
    "problem3 = 12345"
   ]
  },
  {
   "cell_type": "code",
   "execution_count": 34,
   "metadata": {
    "collapsed": false
   },
   "outputs": [],
   "source": [
    "big_to_little([1231,'hello',[1,2,3]])"
   ]
  },
  {
   "cell_type": "code",
   "execution_count": 6,
   "metadata": {
    "collapsed": true
   },
   "outputs": [],
   "source": [
    "stringtools.stripper3?"
   ]
  },
  {
   "cell_type": "code",
   "execution_count": null,
   "metadata": {
    "collapsed": true
   },
   "outputs": [],
   "source": []
  }
 ],
 "metadata": {
  "kernelspec": {
   "display_name": "Python 3",
   "language": "python",
   "name": "python3"
  },
  "language_info": {
   "codemirror_mode": {
    "name": "ipython",
    "version": 3
   },
   "file_extension": ".py",
   "mimetype": "text/x-python",
   "name": "python",
   "nbconvert_exporter": "python",
   "pygments_lexer": "ipython3",
   "version": "3.4.3"
  }
 },
 "nbformat": 4,
 "nbformat_minor": 0
}
